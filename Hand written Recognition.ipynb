{
 "cells": [
  {
   "cell_type": "code",
   "execution_count": 2,
   "metadata": {},
   "outputs": [
    {
     "name": "stdout",
     "output_type": "stream",
     "text": [
      "data shape: (1797, 64)\n",
      "image shape: (1797, 8, 8)\n",
      "target shape: (1797,)\n"
     ]
    }
   ],
   "source": [
    "from sklearn.datasets import load_digits\n",
    "\n",
    "dataset=load_digits()\n",
    "\n",
    "data=dataset.data\n",
    "images=dataset.images\n",
    "target=dataset.target\n",
    "\n",
    "print(\"data shape:\",data.shape)\n",
    "print(\"image shape:\",images.shape)\n",
    "print(\"target shape:\",target.shape)"
   ]
  },
  {
   "cell_type": "code",
   "execution_count": 3,
   "metadata": {},
   "outputs": [
    {
     "data": {
      "text/plain": [
       "<matplotlib.image.AxesImage at 0x280d6dfdc10>"
      ]
     },
     "execution_count": 3,
     "metadata": {},
     "output_type": "execute_result"
    },
    {
     "data": {
      "image/png": "[encoded data removed]",
      "text/plain": [
       "<Figure size 432x288 with 1 Axes>"
      ]
     },
     "metadata": {
      "needs_background": "light"
     },
     "output_type": "display_data"
    }
   ],
   "source": [
    "from matplotlib import pyplot as plt\n",
    "\n",
    "plt.imshow(images[1700],cmap=\"gray\")"
   ]
  },
  {
   "cell_type": "code",
   "execution_count": 4,
   "metadata": {},
   "outputs": [
    {
     "name": "stdout",
     "output_type": "stream",
     "text": [
      "[[ 0.  0.  4.  9. 12. 16.  8.  0.]\n",
      " [ 0.  0. 15. 15.  8.  8.  2.  0.]\n",
      " [ 0.  4. 16. 11.  4.  1.  0.  0.]\n",
      " [ 0.  8. 16. 16. 16. 14.  0.  0.]\n",
      " [ 0.  0. 11.  9.  8. 16.  0.  0.]\n",
      " [ 0.  0.  0.  0.  7. 16.  0.  0.]\n",
      " [ 0.  0.  0.  8. 16. 12.  0.  0.]\n",
      " [ 0.  0.  3. 13.  9.  1.  0.  0.]]\n"
     ]
    }
   ],
   "source": [
    "print(images[1700])"
   ]
  },
  {
   "cell_type": "code",
   "execution_count": 5,
   "metadata": {},
   "outputs": [
    {
     "name": "stdout",
     "output_type": "stream",
     "text": [
      "[ 0.  0.  4.  9. 12. 16.  8.  0.  0.  0. 15. 15.  8.  8.  2.  0.  0.  4.\n",
      " 16. 11.  4.  1.  0.  0.  0.  8. 16. 16. 16. 14.  0.  0.  0.  0. 11.  9.\n",
      "  8. 16.  0.  0.  0.  0.  0.  0.  7. 16.  0.  0.  0.  0.  0.  8. 16. 12.\n",
      "  0.  0.  0.  0.  3. 13.  9.  1.  0.  0.]\n"
     ]
    }
   ],
   "source": [
    "print(data[1700])"
   ]
  },
  {
   "cell_type": "code",
   "execution_count": 6,
   "metadata": {},
   "outputs": [
    {
     "name": "stdout",
     "output_type": "stream",
     "text": [
      "5\n"
     ]
    }
   ],
   "source": [
    "print(target[1700])"
   ]
  },
  {
   "cell_type": "code",
   "execution_count": 7,
   "metadata": {},
   "outputs": [],
   "source": [
    "from sklearn.model_selection import train_test_split\n",
    "train_data,test_data,train_target,test_target=train_test_split(data,target,test_size=0.2)"
   ]
  },
  {
   "cell_type": "code",
   "execution_count": 8,
   "metadata": {},
   "outputs": [
    {
     "data": {
      "text/plain": [
       "KNeighborsClassifier(n_neighbors=3)"
      ]
     },
     "execution_count": 8,
     "metadata": {},
     "output_type": "execute_result"
    }
   ],
   "source": [
    "from sklearn.neighbors import KNeighborsClassifier\n",
    "\n",
    "algorithm=KNeighborsClassifier(n_neighbors=3)\n",
    "\n",
    "algorithm.fit(train_data,train_target)"
   ]
  },
  {
   "cell_type": "code",
   "execution_count": 9,
   "metadata": {},
   "outputs": [
    {
     "name": "stdout",
     "output_type": "stream",
     "text": [
      "train data size: (1437, 64)\n",
      "test data size: (360, 64)\n"
     ]
    }
   ],
   "source": [
    "print('train data size:',train_data.shape)\n",
    "print('test data size:',test_data.shape)\n"
   ]
  },
  {
   "cell_type": "code",
   "execution_count": 10,
   "metadata": {},
   "outputs": [],
   "source": [
    "predicted_targets=algorithm.predict(test_data)"
   ]
  },
  {
   "cell_type": "code",
   "execution_count": 11,
   "metadata": {},
   "outputs": [
    {
     "name": "stdout",
     "output_type": "stream",
     "text": [
      "Actual Targets: [1 7 6 5 7 0 5 3 9 7 3 1 0 0 9 2 7 3 6 8 1 0 7 1 0 2 2 0 1 3 1 3 4 5 7 4 7\n",
      " 3 5 0 6 8 6 1 3 2 4 2 9 2 4 2 7 0 1 6 3 5 1 6 9 3 4 2 3 2 9 3 1 5 5 8 0 9\n",
      " 5 5 6 9 5 5 4 2 5 8 6 4 5 9 9 5 6 9 7 9 6 7 7 2 3 3 8 3 8 4 7 5 9 3 0 8 0\n",
      " 2 9 8 0 8 5 2 8 7 9 6 0 3 8 3 6 1 1 3 2 8 8 3 4 0 2 4 5 8 7 7 0 7 0 5 4 3\n",
      " 7 3 4 4 8 4 4 8 1 1 9 4 3 1 7 6 6 6 8 2 8 6 0 7 5 4 3 1 1 9 6 1 8 5 5 8 4\n",
      " 3 8 9 8 4 6 9 5 6 6 9 0 5 7 9 7 1 2 5 6 2 9 6 3 5 1 7 2 3 6 8 9 7 3 6 8 8\n",
      " 4 7 3 0 4 8 5 9 6 3 5 2 2 2 1 2 2 2 2 9 1 3 7 4 9 8 0 2 7 8 4 1 3 7 3 9 8\n",
      " 0 0 2 9 3 4 5 3 4 9 2 5 4 0 6 2 6 6 0 3 3 8 1 6 6 8 0 2 3 5 6 1 4 0 1 1 1\n",
      " 6 3 0 0 9 7 5 4 5 7 7 1 4 5 3 5 4 0 0 0 7 0 9 1 3 5 6 9 5 6 6 5 4 6 2 1 6\n",
      " 1 2 1 9 4 7 7 5 4 0 8 1 5 0 2 7 3 1 8 6 4 3 1 9 2 2 9]\n",
      "Predicted Targets: [1 9 6 5 7 0 5 3 9 7 3 1 0 0 8 2 7 3 6 8 1 0 7 1 0 2 2 0 1 3 1 3 4 5 7 4 7\n",
      " 3 5 0 6 8 6 1 3 2 4 2 9 2 4 2 7 0 1 6 3 5 1 6 9 3 4 2 3 2 9 3 1 5 5 8 0 9\n",
      " 5 5 6 9 5 5 4 2 5 8 6 4 5 9 5 5 6 9 7 9 6 7 7 2 3 3 8 3 8 4 7 5 9 3 0 1 0\n",
      " 2 9 8 0 8 5 2 8 7 9 6 0 3 8 3 6 1 1 7 2 8 8 3 4 0 2 4 5 8 7 7 0 7 0 5 4 3\n",
      " 7 3 4 4 8 4 4 8 1 1 9 4 3 1 7 6 6 6 8 2 8 6 0 7 5 4 3 1 1 9 6 1 8 5 5 8 4\n",
      " 3 8 9 8 4 6 9 5 6 6 9 0 5 7 9 7 1 2 5 6 2 9 6 3 5 1 7 2 3 6 8 9 7 3 6 8 8\n",
      " 4 7 3 0 4 8 5 9 6 3 5 2 2 2 1 2 2 2 2 9 1 3 7 4 3 8 0 2 7 8 4 1 3 7 3 9 8\n",
      " 0 0 2 9 3 4 5 3 4 9 2 5 4 0 6 2 6 6 0 3 3 8 1 6 6 8 0 2 3 5 6 1 4 0 1 1 1\n",
      " 6 3 0 0 9 7 5 4 5 7 7 1 4 5 3 5 4 0 0 0 7 0 9 1 3 5 6 9 5 6 6 5 4 6 2 1 6\n",
      " 1 2 1 9 4 7 7 5 4 0 8 1 5 0 2 7 3 1 8 6 4 3 1 1 2 2 9]\n"
     ]
    }
   ],
   "source": [
    "print(\"Actual Targets:\",test_target)\n",
    "print(\"Predicted Targets:\",predicted_targets)"
   ]
  },
  {
   "cell_type": "code",
   "execution_count": 12,
   "metadata": {},
   "outputs": [
    {
     "name": "stdout",
     "output_type": "stream",
     "text": [
      "98.05555555555556 %\n"
     ]
    }
   ],
   "source": [
    "from sklearn.metrics import accuracy_score\n",
    "\n",
    "acc=accuracy_score(test_target,predicted_targets)\n",
    "print(acc*100,\"%\")"
   ]
  },
  {
   "cell_type": "code",
   "execution_count": 15,
   "metadata": {},
   "outputs": [
    {
     "data": {
      "text/plain": [
       "['KNN-digits.sav']"
      ]
     },
     "execution_count": 15,
     "metadata": {},
     "output_type": "execute_result"
    }
   ],
   "source": [
    "import joblib\n",
    "joblib.dump(algorithm,\"KNN-digits.sav\")"
   ]
  }
 ],
 "metadata": {
  "kernelspec": {
   "display_name": "Python 3",
   "language": "python",
   "name": "python3"
  },
  "language_info": {
   "codemirror_mode": {
    "name": "ipython",
    "version": 3
   },
   "file_extension": ".py",
   "mimetype": "text/x-python",
   "name": "python",
   "nbconvert_exporter": "python",
   "pygments_lexer": "ipython3",
   "version": "3.8.3"
  }
 },
 "nbformat": 4,
 "nbformat_minor": 4
}
